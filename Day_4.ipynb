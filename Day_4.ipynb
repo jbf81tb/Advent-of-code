{
 "cells": [
  {
   "cell_type": "code",
   "execution_count": 1,
   "metadata": {},
   "outputs": [],
   "source": [
    "import pandas as pd\n",
    "import numpy as np\n",
    "import matplotlib.pyplot as plt"
   ]
  },
  {
   "cell_type": "code",
   "execution_count": 2,
   "metadata": {},
   "outputs": [],
   "source": [
    "data = pd.read_csv('day4_guard_duty.csv', names=['duty'])"
   ]
  },
  {
   "cell_type": "code",
   "execution_count": 3,
   "metadata": {},
   "outputs": [
    {
     "data": {
      "text/html": [
       "<div>\n",
       "<style scoped>\n",
       "    .dataframe tbody tr th:only-of-type {\n",
       "        vertical-align: middle;\n",
       "    }\n",
       "\n",
       "    .dataframe tbody tr th {\n",
       "        vertical-align: top;\n",
       "    }\n",
       "\n",
       "    .dataframe thead th {\n",
       "        text-align: right;\n",
       "    }\n",
       "</style>\n",
       "<table border=\"1\" class=\"dataframe\">\n",
       "  <thead>\n",
       "    <tr style=\"text-align: right;\">\n",
       "      <th></th>\n",
       "      <th>duty</th>\n",
       "    </tr>\n",
       "  </thead>\n",
       "  <tbody>\n",
       "    <tr>\n",
       "      <th>0</th>\n",
       "      <td>[1518-11-13 00:04] Guard #2411 begins shift</td>\n",
       "    </tr>\n",
       "    <tr>\n",
       "      <th>1</th>\n",
       "      <td>[1518-09-18 00:43] wakes up</td>\n",
       "    </tr>\n",
       "    <tr>\n",
       "      <th>2</th>\n",
       "      <td>[1518-08-29 23:57] Guard #1871 begins shift</td>\n",
       "    </tr>\n",
       "    <tr>\n",
       "      <th>3</th>\n",
       "      <td>[1518-03-13 00:56] wakes up</td>\n",
       "    </tr>\n",
       "    <tr>\n",
       "      <th>4</th>\n",
       "      <td>[1518-11-13 23:56] Guard #947 begins shift</td>\n",
       "    </tr>\n",
       "    <tr>\n",
       "      <th>5</th>\n",
       "      <td>[1518-05-31 00:54] falls asleep</td>\n",
       "    </tr>\n",
       "    <tr>\n",
       "      <th>6</th>\n",
       "      <td>[1518-11-10 00:40] falls asleep</td>\n",
       "    </tr>\n",
       "    <tr>\n",
       "      <th>7</th>\n",
       "      <td>[1518-05-16 00:39] falls asleep</td>\n",
       "    </tr>\n",
       "    <tr>\n",
       "      <th>8</th>\n",
       "      <td>[1518-03-05 00:01] Guard #967 begins shift</td>\n",
       "    </tr>\n",
       "    <tr>\n",
       "      <th>9</th>\n",
       "      <td>[1518-09-14 00:04] Guard #631 begins shift</td>\n",
       "    </tr>\n",
       "  </tbody>\n",
       "</table>\n",
       "</div>"
      ],
      "text/plain": [
       "                                          duty\n",
       "0  [1518-11-13 00:04] Guard #2411 begins shift\n",
       "1                  [1518-09-18 00:43] wakes up\n",
       "2  [1518-08-29 23:57] Guard #1871 begins shift\n",
       "3                  [1518-03-13 00:56] wakes up\n",
       "4   [1518-11-13 23:56] Guard #947 begins shift\n",
       "5              [1518-05-31 00:54] falls asleep\n",
       "6              [1518-11-10 00:40] falls asleep\n",
       "7              [1518-05-16 00:39] falls asleep\n",
       "8   [1518-03-05 00:01] Guard #967 begins shift\n",
       "9   [1518-09-14 00:04] Guard #631 begins shift"
      ]
     },
     "execution_count": 3,
     "metadata": {},
     "output_type": "execute_result"
    }
   ],
   "source": [
    "data.head(10)"
   ]
  },
  {
   "cell_type": "code",
   "execution_count": null,
   "metadata": {},
   "outputs": [],
   "source": [
    "pd.DataFrame.rename()"
   ]
  },
  {
   "cell_type": "code",
   "execution_count": 84,
   "metadata": {},
   "outputs": [],
   "source": [
    "data['date'] = data.duty.str.extract('\\[(\\d\\d\\d\\d\\-\\d\\d\\-\\d\\d \\d\\d:\\d\\d)\\]',expand=False)"
   ]
  },
  {
   "cell_type": "code",
   "execution_count": 85,
   "metadata": {},
   "outputs": [
    {
     "data": {
      "text/html": [
       "<div>\n",
       "<style scoped>\n",
       "    .dataframe tbody tr th:only-of-type {\n",
       "        vertical-align: middle;\n",
       "    }\n",
       "\n",
       "    .dataframe tbody tr th {\n",
       "        vertical-align: top;\n",
       "    }\n",
       "\n",
       "    .dataframe thead th {\n",
       "        text-align: right;\n",
       "    }\n",
       "</style>\n",
       "<table border=\"1\" class=\"dataframe\">\n",
       "  <thead>\n",
       "    <tr style=\"text-align: right;\">\n",
       "      <th></th>\n",
       "      <th>duty</th>\n",
       "      <th>date</th>\n",
       "    </tr>\n",
       "  </thead>\n",
       "  <tbody>\n",
       "    <tr>\n",
       "      <th>0</th>\n",
       "      <td>[1518-11-13 00:04] Guard #2411 begins shift</td>\n",
       "      <td>1518-11-13 00:04</td>\n",
       "    </tr>\n",
       "    <tr>\n",
       "      <th>1</th>\n",
       "      <td>[1518-09-18 00:43] wakes up</td>\n",
       "      <td>1518-09-18 00:43</td>\n",
       "    </tr>\n",
       "    <tr>\n",
       "      <th>2</th>\n",
       "      <td>[1518-08-29 23:57] Guard #1871 begins shift</td>\n",
       "      <td>1518-08-29 23:57</td>\n",
       "    </tr>\n",
       "    <tr>\n",
       "      <th>3</th>\n",
       "      <td>[1518-03-13 00:56] wakes up</td>\n",
       "      <td>1518-03-13 00:56</td>\n",
       "    </tr>\n",
       "    <tr>\n",
       "      <th>4</th>\n",
       "      <td>[1518-11-13 23:56] Guard #947 begins shift</td>\n",
       "      <td>1518-11-13 23:56</td>\n",
       "    </tr>\n",
       "  </tbody>\n",
       "</table>\n",
       "</div>"
      ],
      "text/plain": [
       "                                          duty              date\n",
       "0  [1518-11-13 00:04] Guard #2411 begins shift  1518-11-13 00:04\n",
       "1                  [1518-09-18 00:43] wakes up  1518-09-18 00:43\n",
       "2  [1518-08-29 23:57] Guard #1871 begins shift  1518-08-29 23:57\n",
       "3                  [1518-03-13 00:56] wakes up  1518-03-13 00:56\n",
       "4   [1518-11-13 23:56] Guard #947 begins shift  1518-11-13 23:56"
      ]
     },
     "execution_count": 85,
     "metadata": {},
     "output_type": "execute_result"
    }
   ],
   "source": [
    "data.head()"
   ]
  },
  {
   "cell_type": "code",
   "execution_count": 86,
   "metadata": {},
   "outputs": [],
   "source": [
    "data['sleep'] = data.duty.apply(lambda x: 'falls asleep' in x)"
   ]
  },
  {
   "cell_type": "code",
   "execution_count": 87,
   "metadata": {},
   "outputs": [
    {
     "data": {
      "text/html": [
       "<div>\n",
       "<style scoped>\n",
       "    .dataframe tbody tr th:only-of-type {\n",
       "        vertical-align: middle;\n",
       "    }\n",
       "\n",
       "    .dataframe tbody tr th {\n",
       "        vertical-align: top;\n",
       "    }\n",
       "\n",
       "    .dataframe thead th {\n",
       "        text-align: right;\n",
       "    }\n",
       "</style>\n",
       "<table border=\"1\" class=\"dataframe\">\n",
       "  <thead>\n",
       "    <tr style=\"text-align: right;\">\n",
       "      <th></th>\n",
       "      <th>duty</th>\n",
       "      <th>date</th>\n",
       "      <th>sleep</th>\n",
       "    </tr>\n",
       "  </thead>\n",
       "  <tbody>\n",
       "    <tr>\n",
       "      <th>0</th>\n",
       "      <td>[1518-11-13 00:04] Guard #2411 begins shift</td>\n",
       "      <td>1518-11-13 00:04</td>\n",
       "      <td>False</td>\n",
       "    </tr>\n",
       "    <tr>\n",
       "      <th>1</th>\n",
       "      <td>[1518-09-18 00:43] wakes up</td>\n",
       "      <td>1518-09-18 00:43</td>\n",
       "      <td>False</td>\n",
       "    </tr>\n",
       "    <tr>\n",
       "      <th>2</th>\n",
       "      <td>[1518-08-29 23:57] Guard #1871 begins shift</td>\n",
       "      <td>1518-08-29 23:57</td>\n",
       "      <td>False</td>\n",
       "    </tr>\n",
       "    <tr>\n",
       "      <th>3</th>\n",
       "      <td>[1518-03-13 00:56] wakes up</td>\n",
       "      <td>1518-03-13 00:56</td>\n",
       "      <td>False</td>\n",
       "    </tr>\n",
       "    <tr>\n",
       "      <th>4</th>\n",
       "      <td>[1518-11-13 23:56] Guard #947 begins shift</td>\n",
       "      <td>1518-11-13 23:56</td>\n",
       "      <td>False</td>\n",
       "    </tr>\n",
       "    <tr>\n",
       "      <th>5</th>\n",
       "      <td>[1518-05-31 00:54] falls asleep</td>\n",
       "      <td>1518-05-31 00:54</td>\n",
       "      <td>True</td>\n",
       "    </tr>\n",
       "  </tbody>\n",
       "</table>\n",
       "</div>"
      ],
      "text/plain": [
       "                                          duty              date  sleep\n",
       "0  [1518-11-13 00:04] Guard #2411 begins shift  1518-11-13 00:04  False\n",
       "1                  [1518-09-18 00:43] wakes up  1518-09-18 00:43  False\n",
       "2  [1518-08-29 23:57] Guard #1871 begins shift  1518-08-29 23:57  False\n",
       "3                  [1518-03-13 00:56] wakes up  1518-03-13 00:56  False\n",
       "4   [1518-11-13 23:56] Guard #947 begins shift  1518-11-13 23:56  False\n",
       "5              [1518-05-31 00:54] falls asleep  1518-05-31 00:54   True"
      ]
     },
     "execution_count": 87,
     "metadata": {},
     "output_type": "execute_result"
    }
   ],
   "source": [
    "data.head(6)"
   ]
  },
  {
   "cell_type": "code",
   "execution_count": 89,
   "metadata": {},
   "outputs": [],
   "source": [
    "data['wake'] = data.duty.apply(lambda x: 'wakes up' in x)"
   ]
  },
  {
   "cell_type": "code",
   "execution_count": 90,
   "metadata": {},
   "outputs": [
    {
     "data": {
      "text/html": [
       "<div>\n",
       "<style scoped>\n",
       "    .dataframe tbody tr th:only-of-type {\n",
       "        vertical-align: middle;\n",
       "    }\n",
       "\n",
       "    .dataframe tbody tr th {\n",
       "        vertical-align: top;\n",
       "    }\n",
       "\n",
       "    .dataframe thead th {\n",
       "        text-align: right;\n",
       "    }\n",
       "</style>\n",
       "<table border=\"1\" class=\"dataframe\">\n",
       "  <thead>\n",
       "    <tr style=\"text-align: right;\">\n",
       "      <th></th>\n",
       "      <th>duty</th>\n",
       "      <th>date</th>\n",
       "      <th>sleep</th>\n",
       "      <th>wake</th>\n",
       "    </tr>\n",
       "  </thead>\n",
       "  <tbody>\n",
       "    <tr>\n",
       "      <th>0</th>\n",
       "      <td>[1518-11-13 00:04] Guard #2411 begins shift</td>\n",
       "      <td>1518-11-13 00:04</td>\n",
       "      <td>False</td>\n",
       "      <td>False</td>\n",
       "    </tr>\n",
       "    <tr>\n",
       "      <th>1</th>\n",
       "      <td>[1518-09-18 00:43] wakes up</td>\n",
       "      <td>1518-09-18 00:43</td>\n",
       "      <td>False</td>\n",
       "      <td>True</td>\n",
       "    </tr>\n",
       "    <tr>\n",
       "      <th>2</th>\n",
       "      <td>[1518-08-29 23:57] Guard #1871 begins shift</td>\n",
       "      <td>1518-08-29 23:57</td>\n",
       "      <td>False</td>\n",
       "      <td>False</td>\n",
       "    </tr>\n",
       "    <tr>\n",
       "      <th>3</th>\n",
       "      <td>[1518-03-13 00:56] wakes up</td>\n",
       "      <td>1518-03-13 00:56</td>\n",
       "      <td>False</td>\n",
       "      <td>True</td>\n",
       "    </tr>\n",
       "    <tr>\n",
       "      <th>4</th>\n",
       "      <td>[1518-11-13 23:56] Guard #947 begins shift</td>\n",
       "      <td>1518-11-13 23:56</td>\n",
       "      <td>False</td>\n",
       "      <td>False</td>\n",
       "    </tr>\n",
       "  </tbody>\n",
       "</table>\n",
       "</div>"
      ],
      "text/plain": [
       "                                          duty              date  sleep   wake\n",
       "0  [1518-11-13 00:04] Guard #2411 begins shift  1518-11-13 00:04  False  False\n",
       "1                  [1518-09-18 00:43] wakes up  1518-09-18 00:43  False   True\n",
       "2  [1518-08-29 23:57] Guard #1871 begins shift  1518-08-29 23:57  False  False\n",
       "3                  [1518-03-13 00:56] wakes up  1518-03-13 00:56  False   True\n",
       "4   [1518-11-13 23:56] Guard #947 begins shift  1518-11-13 23:56  False  False"
      ]
     },
     "execution_count": 90,
     "metadata": {},
     "output_type": "execute_result"
    }
   ],
   "source": [
    "data.head()"
   ]
  },
  {
   "cell_type": "code",
   "execution_count": 10,
   "metadata": {},
   "outputs": [],
   "source": [
    "guard = data.duty.apply(lambda x: 'Guard' in x)"
   ]
  },
  {
   "cell_type": "code",
   "execution_count": 11,
   "metadata": {},
   "outputs": [
    {
     "data": {
      "text/plain": [
       "0     True\n",
       "1    False\n",
       "2     True\n",
       "3    False\n",
       "4     True\n",
       "Name: duty, dtype: bool"
      ]
     },
     "execution_count": 11,
     "metadata": {},
     "output_type": "execute_result"
    }
   ],
   "source": [
    "guard.head()"
   ]
  },
  {
   "cell_type": "code",
   "execution_count": 94,
   "metadata": {},
   "outputs": [],
   "source": [
    "data['guardNumber'] = data.duty[guard].str.extract('Guard #(\\d*)', expand=False).astype(np.float_)"
   ]
  },
  {
   "cell_type": "code",
   "execution_count": 96,
   "metadata": {},
   "outputs": [
    {
     "data": {
      "text/html": [
       "<div>\n",
       "<style scoped>\n",
       "    .dataframe tbody tr th:only-of-type {\n",
       "        vertical-align: middle;\n",
       "    }\n",
       "\n",
       "    .dataframe tbody tr th {\n",
       "        vertical-align: top;\n",
       "    }\n",
       "\n",
       "    .dataframe thead th {\n",
       "        text-align: right;\n",
       "    }\n",
       "</style>\n",
       "<table border=\"1\" class=\"dataframe\">\n",
       "  <thead>\n",
       "    <tr style=\"text-align: right;\">\n",
       "      <th></th>\n",
       "      <th>duty</th>\n",
       "      <th>date</th>\n",
       "      <th>sleep</th>\n",
       "      <th>wake</th>\n",
       "      <th>guardNumber</th>\n",
       "    </tr>\n",
       "  </thead>\n",
       "  <tbody>\n",
       "    <tr>\n",
       "      <th>0</th>\n",
       "      <td>[1518-11-13 00:04] Guard #2411 begins shift</td>\n",
       "      <td>1518-11-13 00:04</td>\n",
       "      <td>False</td>\n",
       "      <td>False</td>\n",
       "      <td>2411.0</td>\n",
       "    </tr>\n",
       "    <tr>\n",
       "      <th>1</th>\n",
       "      <td>[1518-09-18 00:43] wakes up</td>\n",
       "      <td>1518-09-18 00:43</td>\n",
       "      <td>False</td>\n",
       "      <td>True</td>\n",
       "      <td>NaN</td>\n",
       "    </tr>\n",
       "    <tr>\n",
       "      <th>2</th>\n",
       "      <td>[1518-08-29 23:57] Guard #1871 begins shift</td>\n",
       "      <td>1518-08-29 23:57</td>\n",
       "      <td>False</td>\n",
       "      <td>False</td>\n",
       "      <td>1871.0</td>\n",
       "    </tr>\n",
       "    <tr>\n",
       "      <th>3</th>\n",
       "      <td>[1518-03-13 00:56] wakes up</td>\n",
       "      <td>1518-03-13 00:56</td>\n",
       "      <td>False</td>\n",
       "      <td>True</td>\n",
       "      <td>NaN</td>\n",
       "    </tr>\n",
       "    <tr>\n",
       "      <th>4</th>\n",
       "      <td>[1518-11-13 23:56] Guard #947 begins shift</td>\n",
       "      <td>1518-11-13 23:56</td>\n",
       "      <td>False</td>\n",
       "      <td>False</td>\n",
       "      <td>947.0</td>\n",
       "    </tr>\n",
       "  </tbody>\n",
       "</table>\n",
       "</div>"
      ],
      "text/plain": [
       "                                          duty              date  sleep  \\\n",
       "0  [1518-11-13 00:04] Guard #2411 begins shift  1518-11-13 00:04  False   \n",
       "1                  [1518-09-18 00:43] wakes up  1518-09-18 00:43  False   \n",
       "2  [1518-08-29 23:57] Guard #1871 begins shift  1518-08-29 23:57  False   \n",
       "3                  [1518-03-13 00:56] wakes up  1518-03-13 00:56  False   \n",
       "4   [1518-11-13 23:56] Guard #947 begins shift  1518-11-13 23:56  False   \n",
       "\n",
       "    wake  guardNumber  \n",
       "0  False       2411.0  \n",
       "1   True          NaN  \n",
       "2  False       1871.0  \n",
       "3   True          NaN  \n",
       "4  False        947.0  "
      ]
     },
     "execution_count": 96,
     "metadata": {},
     "output_type": "execute_result"
    }
   ],
   "source": [
    "data.head()"
   ]
  },
  {
   "cell_type": "code",
   "execution_count": 97,
   "metadata": {},
   "outputs": [],
   "source": [
    "def conv(x):\n",
    "    return pd.Period(year = int(x[:4]), month = int(x[5:7]), day = int(x[8:10]), hour = int(x[11:13]), minute = int(x[14:16]), freq='min')"
   ]
  },
  {
   "cell_type": "code",
   "execution_count": 121,
   "metadata": {},
   "outputs": [],
   "source": [
    "data.date = data.date.apply(conv)"
   ]
  },
  {
   "cell_type": "code",
   "execution_count": 122,
   "metadata": {},
   "outputs": [
    {
     "name": "stdout",
     "output_type": "stream",
     "text": [
      "<class 'pandas.core.frame.DataFrame'>\n",
      "Int64Index: 1140 entries, 568 to 266\n",
      "Data columns (total 5 columns):\n",
      "duty           1140 non-null object\n",
      "date           1140 non-null object\n",
      "sleep          1140 non-null bool\n",
      "wake           1140 non-null bool\n",
      "guardNumber    1140 non-null int32\n",
      "dtypes: bool(2), int32(1), object(2)\n",
      "memory usage: 73.4+ KB\n"
     ]
    }
   ],
   "source": [
    "data.info()"
   ]
  },
  {
   "cell_type": "code",
   "execution_count": 103,
   "metadata": {},
   "outputs": [
    {
     "data": {
      "text/plain": [
       "False"
      ]
     },
     "execution_count": 103,
     "metadata": {},
     "output_type": "execute_result"
    }
   ],
   "source": [
    "any(data.guardNumber.values==0)"
   ]
  },
  {
   "cell_type": "code",
   "execution_count": 104,
   "metadata": {},
   "outputs": [],
   "source": [
    "data.guardNumber.fillna(value=0,inplace=True)"
   ]
  },
  {
   "cell_type": "code",
   "execution_count": 106,
   "metadata": {},
   "outputs": [],
   "source": [
    "data.guardNumber = data.guardNumber.astype(np.int_)"
   ]
  },
  {
   "cell_type": "code",
   "execution_count": 108,
   "metadata": {},
   "outputs": [],
   "source": [
    "data.sort_values(by='date', inplace=True)"
   ]
  },
  {
   "cell_type": "code",
   "execution_count": 237,
   "metadata": {},
   "outputs": [],
   "source": [
    "tmp = data.reset_index(drop=True)"
   ]
  },
  {
   "cell_type": "code",
   "execution_count": 238,
   "metadata": {},
   "outputs": [
    {
     "data": {
      "text/html": [
       "<div>\n",
       "<style scoped>\n",
       "    .dataframe tbody tr th:only-of-type {\n",
       "        vertical-align: middle;\n",
       "    }\n",
       "\n",
       "    .dataframe tbody tr th {\n",
       "        vertical-align: top;\n",
       "    }\n",
       "\n",
       "    .dataframe thead th {\n",
       "        text-align: right;\n",
       "    }\n",
       "</style>\n",
       "<table border=\"1\" class=\"dataframe\">\n",
       "  <thead>\n",
       "    <tr style=\"text-align: right;\">\n",
       "      <th></th>\n",
       "      <th>duty</th>\n",
       "      <th>date</th>\n",
       "      <th>sleep</th>\n",
       "      <th>wake</th>\n",
       "      <th>guardNumber</th>\n",
       "    </tr>\n",
       "  </thead>\n",
       "  <tbody>\n",
       "    <tr>\n",
       "      <th>0</th>\n",
       "      <td>[1518-02-01 00:02] Guard #137 begins shift</td>\n",
       "      <td>1518-02-01 00:02</td>\n",
       "      <td>False</td>\n",
       "      <td>False</td>\n",
       "      <td>137</td>\n",
       "    </tr>\n",
       "    <tr>\n",
       "      <th>1</th>\n",
       "      <td>[1518-02-01 00:39] falls asleep</td>\n",
       "      <td>1518-02-01 00:39</td>\n",
       "      <td>True</td>\n",
       "      <td>False</td>\n",
       "      <td>0</td>\n",
       "    </tr>\n",
       "    <tr>\n",
       "      <th>2</th>\n",
       "      <td>[1518-02-01 00:55] wakes up</td>\n",
       "      <td>1518-02-01 00:55</td>\n",
       "      <td>False</td>\n",
       "      <td>True</td>\n",
       "      <td>0</td>\n",
       "    </tr>\n",
       "    <tr>\n",
       "      <th>3</th>\n",
       "      <td>[1518-02-01 23:56] Guard #2441 begins shift</td>\n",
       "      <td>1518-02-01 23:56</td>\n",
       "      <td>False</td>\n",
       "      <td>False</td>\n",
       "      <td>2441</td>\n",
       "    </tr>\n",
       "    <tr>\n",
       "      <th>4</th>\n",
       "      <td>[1518-02-02 23:49] Guard #3251 begins shift</td>\n",
       "      <td>1518-02-02 23:49</td>\n",
       "      <td>False</td>\n",
       "      <td>False</td>\n",
       "      <td>3251</td>\n",
       "    </tr>\n",
       "  </tbody>\n",
       "</table>\n",
       "</div>"
      ],
      "text/plain": [
       "                                          duty             date  sleep   wake  \\\n",
       "0   [1518-02-01 00:02] Guard #137 begins shift 1518-02-01 00:02  False  False   \n",
       "1              [1518-02-01 00:39] falls asleep 1518-02-01 00:39   True  False   \n",
       "2                  [1518-02-01 00:55] wakes up 1518-02-01 00:55  False   True   \n",
       "3  [1518-02-01 23:56] Guard #2441 begins shift 1518-02-01 23:56  False  False   \n",
       "4  [1518-02-02 23:49] Guard #3251 begins shift 1518-02-02 23:49  False  False   \n",
       "\n",
       "   guardNumber  \n",
       "0          137  \n",
       "1            0  \n",
       "2            0  \n",
       "3         2441  \n",
       "4         3251  "
      ]
     },
     "execution_count": 238,
     "metadata": {},
     "output_type": "execute_result"
    }
   ],
   "source": [
    "tmp.head()"
   ]
  },
  {
   "cell_type": "code",
   "execution_count": 242,
   "metadata": {},
   "outputs": [
    {
     "name": "stdout",
     "output_type": "stream",
     "text": [
      "39 55\n",
      "31 54\n",
      "9 56\n",
      "38 46\n",
      "18 47\n",
      "13 24\n",
      "43 58\n",
      "14 47\n",
      "25 52\n",
      "36 42\n",
      "19 51\n",
      "1 46\n",
      "13 54\n",
      "34 51\n",
      "4 51\n",
      "22 49\n",
      "24 33\n",
      "33 49\n",
      "2 7\n"
     ]
    }
   ],
   "source": [
    "for i in tmp[tmp.guardNumber==137].index:\n",
    "    print(tmp.loc[i+1].date.minute,tmp.loc[i+2].date.minute)"
   ]
  },
  {
   "cell_type": "code",
   "execution_count": 198,
   "metadata": {},
   "outputs": [],
   "source": [
    "guardSleep = {}\n",
    "for row in data.itertuples():\n",
    "    if row.guardNumber is not 0:\n",
    "        gn = row.guardNumber\n",
    "        continue\n",
    "    if row.sleep:\n",
    "        sleepStart = row.date.minute\n",
    "        continue\n",
    "    if row.wake:\n",
    "        sleepEnd = row.date.minute\n",
    "        if guardSleep.get(gn) is None:\n",
    "            guardSleep[gn] = [list(range(sleepStart,sleepEnd))]\n",
    "        else:\n",
    "            guardSleep[gn].append(list(range(sleepStart,sleepEnd)))\n",
    "            \n",
    "    "
   ]
  },
  {
   "cell_type": "code",
   "execution_count": 244,
   "metadata": {},
   "outputs": [
    {
     "data": {
      "text/plain": [
       "[[39, 40, 41, 42, 43, 44, 45, 46, 47, 48, 49, 50, 51, 52, 53, 54],\n",
       " [31,\n",
       "  32,\n",
       "  33,\n",
       "  34,\n",
       "  35,\n",
       "  36,\n",
       "  37,\n",
       "  38,\n",
       "  39,\n",
       "  40,\n",
       "  41,\n",
       "  42,\n",
       "  43,\n",
       "  44,\n",
       "  45,\n",
       "  46,\n",
       "  47,\n",
       "  48,\n",
       "  49,\n",
       "  50,\n",
       "  51,\n",
       "  52,\n",
       "  53],\n",
       " [9,\n",
       "  10,\n",
       "  11,\n",
       "  12,\n",
       "  13,\n",
       "  14,\n",
       "  15,\n",
       "  16,\n",
       "  17,\n",
       "  18,\n",
       "  19,\n",
       "  20,\n",
       "  21,\n",
       "  22,\n",
       "  23,\n",
       "  24,\n",
       "  25,\n",
       "  26,\n",
       "  27,\n",
       "  28,\n",
       "  29,\n",
       "  30,\n",
       "  31,\n",
       "  32,\n",
       "  33,\n",
       "  34,\n",
       "  35,\n",
       "  36,\n",
       "  37,\n",
       "  38,\n",
       "  39,\n",
       "  40,\n",
       "  41,\n",
       "  42,\n",
       "  43,\n",
       "  44,\n",
       "  45,\n",
       "  46,\n",
       "  47,\n",
       "  48,\n",
       "  49,\n",
       "  50,\n",
       "  51,\n",
       "  52,\n",
       "  53,\n",
       "  54,\n",
       "  55],\n",
       " [38, 39, 40, 41, 42, 43, 44, 45],\n",
       " [18,\n",
       "  19,\n",
       "  20,\n",
       "  21,\n",
       "  22,\n",
       "  23,\n",
       "  24,\n",
       "  25,\n",
       "  26,\n",
       "  27,\n",
       "  28,\n",
       "  29,\n",
       "  30,\n",
       "  31,\n",
       "  32,\n",
       "  33,\n",
       "  34,\n",
       "  35,\n",
       "  36,\n",
       "  37,\n",
       "  38,\n",
       "  39,\n",
       "  40,\n",
       "  41,\n",
       "  42,\n",
       "  43,\n",
       "  44,\n",
       "  45,\n",
       "  46],\n",
       " [13, 14, 15, 16, 17, 18, 19, 20, 21, 22, 23],\n",
       " [42, 43, 44, 45, 46, 47],\n",
       " [43, 44, 45, 46, 47, 48, 49, 50, 51, 52, 53, 54, 55, 56, 57],\n",
       " [14,\n",
       "  15,\n",
       "  16,\n",
       "  17,\n",
       "  18,\n",
       "  19,\n",
       "  20,\n",
       "  21,\n",
       "  22,\n",
       "  23,\n",
       "  24,\n",
       "  25,\n",
       "  26,\n",
       "  27,\n",
       "  28,\n",
       "  29,\n",
       "  30,\n",
       "  31,\n",
       "  32,\n",
       "  33,\n",
       "  34,\n",
       "  35,\n",
       "  36,\n",
       "  37,\n",
       "  38,\n",
       "  39,\n",
       "  40,\n",
       "  41,\n",
       "  42,\n",
       "  43,\n",
       "  44,\n",
       "  45,\n",
       "  46],\n",
       " [54, 55, 56, 57],\n",
       " [25,\n",
       "  26,\n",
       "  27,\n",
       "  28,\n",
       "  29,\n",
       "  30,\n",
       "  31,\n",
       "  32,\n",
       "  33,\n",
       "  34,\n",
       "  35,\n",
       "  36,\n",
       "  37,\n",
       "  38,\n",
       "  39,\n",
       "  40,\n",
       "  41,\n",
       "  42,\n",
       "  43,\n",
       "  44,\n",
       "  45,\n",
       "  46,\n",
       "  47,\n",
       "  48,\n",
       "  49,\n",
       "  50,\n",
       "  51],\n",
       " [36, 37, 38, 39, 40, 41],\n",
       " [46, 47, 48, 49, 50],\n",
       " [19,\n",
       "  20,\n",
       "  21,\n",
       "  22,\n",
       "  23,\n",
       "  24,\n",
       "  25,\n",
       "  26,\n",
       "  27,\n",
       "  28,\n",
       "  29,\n",
       "  30,\n",
       "  31,\n",
       "  32,\n",
       "  33,\n",
       "  34,\n",
       "  35,\n",
       "  36,\n",
       "  37,\n",
       "  38,\n",
       "  39,\n",
       "  40,\n",
       "  41,\n",
       "  42,\n",
       "  43,\n",
       "  44,\n",
       "  45,\n",
       "  46,\n",
       "  47,\n",
       "  48,\n",
       "  49,\n",
       "  50],\n",
       " [1,\n",
       "  2,\n",
       "  3,\n",
       "  4,\n",
       "  5,\n",
       "  6,\n",
       "  7,\n",
       "  8,\n",
       "  9,\n",
       "  10,\n",
       "  11,\n",
       "  12,\n",
       "  13,\n",
       "  14,\n",
       "  15,\n",
       "  16,\n",
       "  17,\n",
       "  18,\n",
       "  19,\n",
       "  20,\n",
       "  21,\n",
       "  22,\n",
       "  23,\n",
       "  24,\n",
       "  25,\n",
       "  26,\n",
       "  27,\n",
       "  28,\n",
       "  29,\n",
       "  30,\n",
       "  31,\n",
       "  32,\n",
       "  33,\n",
       "  34,\n",
       "  35,\n",
       "  36,\n",
       "  37,\n",
       "  38,\n",
       "  39,\n",
       "  40,\n",
       "  41,\n",
       "  42,\n",
       "  43,\n",
       "  44,\n",
       "  45],\n",
       " [13,\n",
       "  14,\n",
       "  15,\n",
       "  16,\n",
       "  17,\n",
       "  18,\n",
       "  19,\n",
       "  20,\n",
       "  21,\n",
       "  22,\n",
       "  23,\n",
       "  24,\n",
       "  25,\n",
       "  26,\n",
       "  27,\n",
       "  28,\n",
       "  29,\n",
       "  30,\n",
       "  31,\n",
       "  32,\n",
       "  33,\n",
       "  34,\n",
       "  35,\n",
       "  36,\n",
       "  37,\n",
       "  38,\n",
       "  39,\n",
       "  40,\n",
       "  41,\n",
       "  42,\n",
       "  43,\n",
       "  44,\n",
       "  45,\n",
       "  46,\n",
       "  47,\n",
       "  48,\n",
       "  49,\n",
       "  50,\n",
       "  51,\n",
       "  52,\n",
       "  53],\n",
       " [34, 35, 36, 37, 38, 39, 40, 41, 42, 43, 44, 45, 46, 47, 48, 49, 50],\n",
       " [4,\n",
       "  5,\n",
       "  6,\n",
       "  7,\n",
       "  8,\n",
       "  9,\n",
       "  10,\n",
       "  11,\n",
       "  12,\n",
       "  13,\n",
       "  14,\n",
       "  15,\n",
       "  16,\n",
       "  17,\n",
       "  18,\n",
       "  19,\n",
       "  20,\n",
       "  21,\n",
       "  22,\n",
       "  23,\n",
       "  24,\n",
       "  25,\n",
       "  26,\n",
       "  27,\n",
       "  28,\n",
       "  29,\n",
       "  30,\n",
       "  31,\n",
       "  32,\n",
       "  33,\n",
       "  34,\n",
       "  35,\n",
       "  36,\n",
       "  37,\n",
       "  38,\n",
       "  39,\n",
       "  40,\n",
       "  41,\n",
       "  42,\n",
       "  43,\n",
       "  44,\n",
       "  45,\n",
       "  46,\n",
       "  47,\n",
       "  48,\n",
       "  49,\n",
       "  50],\n",
       " [22,\n",
       "  23,\n",
       "  24,\n",
       "  25,\n",
       "  26,\n",
       "  27,\n",
       "  28,\n",
       "  29,\n",
       "  30,\n",
       "  31,\n",
       "  32,\n",
       "  33,\n",
       "  34,\n",
       "  35,\n",
       "  36,\n",
       "  37,\n",
       "  38,\n",
       "  39,\n",
       "  40,\n",
       "  41,\n",
       "  42,\n",
       "  43,\n",
       "  44,\n",
       "  45,\n",
       "  46,\n",
       "  47,\n",
       "  48],\n",
       " [24, 25, 26, 27, 28, 29, 30, 31, 32],\n",
       " [33, 34, 35, 36, 37, 38, 39, 40, 41, 42, 43, 44, 45, 46, 47, 48],\n",
       " [2, 3, 4, 5, 6],\n",
       " [27, 28, 29, 30, 31, 32, 33, 34, 35, 36, 37, 38, 39]]"
      ]
     },
     "execution_count": 244,
     "metadata": {},
     "output_type": "execute_result"
    }
   ],
   "source": [
    "list(guardSleep.values())[0]"
   ]
  },
  {
   "cell_type": "code",
   "execution_count": 199,
   "metadata": {},
   "outputs": [],
   "source": [
    "import itertools"
   ]
  },
  {
   "cell_type": "code",
   "execution_count": 245,
   "metadata": {},
   "outputs": [],
   "source": [
    "minSleep, mostSleepMin = ([] for _ in range(2))\n",
    "for key, value in guardSleep.items():\n",
    "    sleepTime = np.asarray(list(itertools.chain.from_iterable(value)))\n",
    "    minSleep.append(len(sleepTime))\n",
    "    mostSleepMin.append(0)\n",
    "    count = 0\n",
    "    for i in range(60):\n",
    "        if sum(sleepTime==i)>count:\n",
    "            mostSleepMin[-1] = i\n",
    "            count = sum(sleepTime==i)\n",
    "    "
   ]
  },
  {
   "cell_type": "code",
   "execution_count": null,
   "metadata": {},
   "outputs": [],
   "source": []
  },
  {
   "cell_type": "code",
   "execution_count": 246,
   "metadata": {},
   "outputs": [
    {
     "name": "stdout",
     "output_type": "stream",
     "text": [
      "137 482 39\n",
      "3251 425 44\n",
      "479 359 29\n",
      "1871 397 49\n",
      "811 438 50\n",
      "967 301 15\n",
      "3221 348 39\n",
      "3347 406 13\n",
      "2741 227 33\n",
      "1213 186 47\n",
      "2351 520 36\n",
      "83 250 41\n",
      "631 202 31\n",
      "1999 357 35\n",
      "1151 279 44\n",
      "2411 356 20\n",
      "503 211 35\n",
      "1297 290 47\n",
      "947 352 33\n",
      "617 299 36\n"
     ]
    }
   ],
   "source": [
    "for a,b,c in zip(guardSleep.keys(),minSleep,mostSleepMin):\n",
    "    print(a,b,c)"
   ]
  },
  {
   "cell_type": "code",
   "execution_count": 247,
   "metadata": {},
   "outputs": [],
   "source": [
    "mostSleep = np.asarray(minSleep).argmax()"
   ]
  },
  {
   "cell_type": "code",
   "execution_count": null,
   "metadata": {},
   "outputs": [],
   "source": []
  },
  {
   "cell_type": "code",
   "execution_count": 248,
   "metadata": {},
   "outputs": [
    {
     "name": "stdout",
     "output_type": "stream",
     "text": [
      "2351 520 36\n"
     ]
    }
   ],
   "source": [
    "print(list(guardSleep.keys())[mostSleep],minSleep[mostSleep],mostSleepMin[mostSleep]) "
   ]
  },
  {
   "cell_type": "code",
   "execution_count": 249,
   "metadata": {},
   "outputs": [
    {
     "name": "stdout",
     "output_type": "stream",
     "text": [
      "84636\n"
     ]
    }
   ],
   "source": [
    "print(list(guardSleep.keys())[mostSleep]*mostSleepMin[mostSleep])"
   ]
  },
  {
   "cell_type": "code",
   "execution_count": 254,
   "metadata": {},
   "outputs": [],
   "source": [
    "mostFreqMin = []; minSleepCount = []\n",
    "for key, value in guardSleep.items():\n",
    "    sleepTime = np.asarray(list(itertools.chain.from_iterable(value)))\n",
    "    mostFreqMin.append(0)\n",
    "    minSleepCount.append(0)\n",
    "    count = 0\n",
    "    for i in range(60):\n",
    "        totMin = sum(sleepTime==i)\n",
    "        if totMin>count:\n",
    "            mostFreqMin[-1] = i\n",
    "            minSleepCount[-1] = totMin\n",
    "            count = totMin\n",
    "    "
   ]
  },
  {
   "cell_type": "code",
   "execution_count": 257,
   "metadata": {},
   "outputs": [],
   "source": [
    "maxMin = np.asarray(minSleepCount).argmax()"
   ]
  },
  {
   "cell_type": "code",
   "execution_count": 258,
   "metadata": {},
   "outputs": [
    {
     "data": {
      "text/plain": [
       "3"
      ]
     },
     "execution_count": 258,
     "metadata": {},
     "output_type": "execute_result"
    }
   ],
   "source": [
    "maxMin"
   ]
  },
  {
   "cell_type": "code",
   "execution_count": 260,
   "metadata": {},
   "outputs": [
    {
     "name": "stdout",
     "output_type": "stream",
     "text": [
      "91679\n"
     ]
    }
   ],
   "source": [
    "print(list(guardSleep.keys())[maxMin]*mostFreqMin[maxMin])"
   ]
  },
  {
   "cell_type": "code",
   "execution_count": null,
   "metadata": {},
   "outputs": [],
   "source": []
  }
 ],
 "metadata": {
  "kernelspec": {
   "display_name": "Python 3",
   "language": "python",
   "name": "python3"
  },
  "language_info": {
   "codemirror_mode": {
    "name": "ipython",
    "version": 3
   },
   "file_extension": ".py",
   "mimetype": "text/x-python",
   "name": "python",
   "nbconvert_exporter": "python",
   "pygments_lexer": "ipython3",
   "version": "3.6.6"
  }
 },
 "nbformat": 4,
 "nbformat_minor": 2
}

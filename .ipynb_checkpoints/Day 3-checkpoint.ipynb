{
 "cells": [
  {
   "cell_type": "code",
   "execution_count": 1,
   "metadata": {},
   "outputs": [],
   "source": [
    "import pandas as pd\n",
    "import numpy as np"
   ]
  },
  {
   "cell_type": "code",
   "execution_count": 2,
   "metadata": {},
   "outputs": [],
   "source": [
    "data = pd.read_csv('day3_rectangles.csv',names=['codes'])"
   ]
  },
  {
   "cell_type": "code",
   "execution_count": 3,
   "metadata": {},
   "outputs": [
    {
     "data": {
      "text/plain": [
       "'#1 @ 35,93: 11x13'"
      ]
     },
     "execution_count": 3,
     "metadata": {},
     "output_type": "execute_result"
    }
   ],
   "source": [
    "data.codes.values[0]"
   ]
  },
  {
   "cell_type": "code",
   "execution_count": 4,
   "metadata": {},
   "outputs": [],
   "source": [
    "measurements = data.codes.str.extract('\\#(\\d*) @ (\\d*),(\\d*): (\\d*)x(\\d*)')"
   ]
  },
  {
   "cell_type": "code",
   "execution_count": 6,
   "metadata": {},
   "outputs": [],
   "source": [
    "measurements.rename(index=str, columns={0:'id',1:'left',2:'above',3:'width',4:'height'},inplace=True)"
   ]
  },
  {
   "cell_type": "code",
   "execution_count": 7,
   "metadata": {},
   "outputs": [],
   "source": [
    "measurements = measurements.astype(np.int_)"
   ]
  },
  {
   "cell_type": "code",
   "execution_count": 8,
   "metadata": {},
   "outputs": [
    {
     "data": {
      "text/html": [
       "<div>\n",
       "<style scoped>\n",
       "    .dataframe tbody tr th:only-of-type {\n",
       "        vertical-align: middle;\n",
       "    }\n",
       "\n",
       "    .dataframe tbody tr th {\n",
       "        vertical-align: top;\n",
       "    }\n",
       "\n",
       "    .dataframe thead th {\n",
       "        text-align: right;\n",
       "    }\n",
       "</style>\n",
       "<table border=\"1\" class=\"dataframe\">\n",
       "  <thead>\n",
       "    <tr style=\"text-align: right;\">\n",
       "      <th></th>\n",
       "      <th>id</th>\n",
       "      <th>left</th>\n",
       "      <th>above</th>\n",
       "      <th>width</th>\n",
       "      <th>height</th>\n",
       "    </tr>\n",
       "  </thead>\n",
       "  <tbody>\n",
       "    <tr>\n",
       "      <th>count</th>\n",
       "      <td>1293.000000</td>\n",
       "      <td>1293.000000</td>\n",
       "      <td>1293.000000</td>\n",
       "      <td>1293.000000</td>\n",
       "      <td>1293.000000</td>\n",
       "    </tr>\n",
       "    <tr>\n",
       "      <th>mean</th>\n",
       "      <td>647.000000</td>\n",
       "      <td>479.970611</td>\n",
       "      <td>479.105955</td>\n",
       "      <td>19.494200</td>\n",
       "      <td>19.524362</td>\n",
       "    </tr>\n",
       "    <tr>\n",
       "      <th>std</th>\n",
       "      <td>373.401259</td>\n",
       "      <td>279.537960</td>\n",
       "      <td>281.955144</td>\n",
       "      <td>5.928574</td>\n",
       "      <td>6.034888</td>\n",
       "    </tr>\n",
       "    <tr>\n",
       "      <th>min</th>\n",
       "      <td>1.000000</td>\n",
       "      <td>1.000000</td>\n",
       "      <td>0.000000</td>\n",
       "      <td>3.000000</td>\n",
       "      <td>3.000000</td>\n",
       "    </tr>\n",
       "    <tr>\n",
       "      <th>25%</th>\n",
       "      <td>324.000000</td>\n",
       "      <td>240.000000</td>\n",
       "      <td>229.000000</td>\n",
       "      <td>15.000000</td>\n",
       "      <td>14.000000</td>\n",
       "    </tr>\n",
       "    <tr>\n",
       "      <th>50%</th>\n",
       "      <td>647.000000</td>\n",
       "      <td>479.000000</td>\n",
       "      <td>477.000000</td>\n",
       "      <td>19.000000</td>\n",
       "      <td>20.000000</td>\n",
       "    </tr>\n",
       "    <tr>\n",
       "      <th>75%</th>\n",
       "      <td>970.000000</td>\n",
       "      <td>699.000000</td>\n",
       "      <td>733.000000</td>\n",
       "      <td>25.000000</td>\n",
       "      <td>25.000000</td>\n",
       "    </tr>\n",
       "    <tr>\n",
       "      <th>max</th>\n",
       "      <td>1293.000000</td>\n",
       "      <td>985.000000</td>\n",
       "      <td>989.000000</td>\n",
       "      <td>29.000000</td>\n",
       "      <td>29.000000</td>\n",
       "    </tr>\n",
       "  </tbody>\n",
       "</table>\n",
       "</div>"
      ],
      "text/plain": [
       "                id         left        above        width       height\n",
       "count  1293.000000  1293.000000  1293.000000  1293.000000  1293.000000\n",
       "mean    647.000000   479.970611   479.105955    19.494200    19.524362\n",
       "std     373.401259   279.537960   281.955144     5.928574     6.034888\n",
       "min       1.000000     1.000000     0.000000     3.000000     3.000000\n",
       "25%     324.000000   240.000000   229.000000    15.000000    14.000000\n",
       "50%     647.000000   479.000000   477.000000    19.000000    20.000000\n",
       "75%     970.000000   699.000000   733.000000    25.000000    25.000000\n",
       "max    1293.000000   985.000000   989.000000    29.000000    29.000000"
      ]
     },
     "execution_count": 8,
     "metadata": {},
     "output_type": "execute_result"
    }
   ],
   "source": [
    "measurements.describe()"
   ]
  },
  {
   "cell_type": "code",
   "execution_count": 9,
   "metadata": {},
   "outputs": [],
   "source": [
    "X = measurements[['left','above','width','height']].values"
   ]
  },
  {
   "cell_type": "code",
   "execution_count": 10,
   "metadata": {},
   "outputs": [],
   "source": [
    "fabric = np.zeros((max(X[:,0]+X[:,2]+1),max(X[:,1]+X[:,3]+1)),dtype=np.int_)\n",
    "for i in range(X.shape[0]):\n",
    "    fabric[X[i,1]:(X[i,1]+X[i,3]),\\\n",
    "           X[i,0]:(X[i,0]+X[i,2])]+=1"
   ]
  },
  {
   "cell_type": "code",
   "execution_count": 12,
   "metadata": {},
   "outputs": [
    {
     "data": {
      "image/png": "[encoded data removed]",
      "text/plain": [
       "<Figure size 432x288 with 2 Axes>"
      ]
     },
     "metadata": {
      "needs_background": "light"
     },
     "output_type": "display_data"
    }
   ],
   "source": [
    "import matplotlib.pyplot as plt\n",
    "plt.imshow(fabric)\n",
    "plt.colorbar()\n",
    "plt.show()"
   ]
  },
  {
   "cell_type": "code",
   "execution_count": 28,
   "metadata": {},
   "outputs": [],
   "source": [
    "def finding_unique(X):\n",
    "    skip = []\n",
    "    fabric = np.zeros((max(X[:,0]+X[:,2]+1),max(X[:,1]+X[:,3]+1)),dtype=np.int_)\n",
    "    for i in range(X.shape[0]):\n",
    "        if i in skip: continue\n",
    "        fabric[:]=0\n",
    "        fabric[X[i,1]:(X[i,1]+X[i,3]), X[i,0]:(X[i,0]+X[i,2])] = 8 #since i know the max overlap is 7\n",
    "        skipped=False\n",
    "        for j in range(X.shape[0]):\n",
    "            if j == i: continue\n",
    "            fabric[X[j,1]:(X[j,1]+X[j,3]),X[j,0]:(X[j,0]+X[j,2])]+=1\n",
    "            if np.any(fabric[X[i,1]:(X[i,1]+X[i,3]), X[i,0]:(X[i,0]+X[i,2])]==9):\n",
    "                skip.append(j)\n",
    "                skipped = True\n",
    "                break\n",
    "        if not skipped: \n",
    "            print(i)\n",
    "            break"
   ]
  },
  {
   "cell_type": "code",
   "execution_count": 2,
   "metadata": {},
   "outputs": [],
   "source": [
    "%load_ext line_profiler"
   ]
  },
  {
   "cell_type": "code",
   "execution_count": 3,
   "metadata": {},
   "outputs": [
    {
     "name": "stderr",
     "output_type": "stream",
     "text": [
      "UsageError: Could not find function 'finding_unique'.\n",
      "NameError: name 'finding_unique' is not defined\n"
     ]
    }
   ],
   "source": [
    "%lprun -f finding_unique finding_unique(X)"
   ]
  },
  {
   "cell_type": "code",
   "execution_count": null,
   "metadata": {},
   "outputs": [],
   "source": []
  }
 ],
 "metadata": {
  "kernelspec": {
   "display_name": "Python 3",
   "language": "python",
   "name": "python3"
  },
  "language_info": {
   "codemirror_mode": {
    "name": "ipython",
    "version": 3
   },
   "file_extension": ".py",
   "mimetype": "text/x-python",
   "name": "python",
   "nbconvert_exporter": "python",
   "pygments_lexer": "ipython3",
   "version": "3.6.6"
  }
 },
 "nbformat": 4,
 "nbformat_minor": 2
}

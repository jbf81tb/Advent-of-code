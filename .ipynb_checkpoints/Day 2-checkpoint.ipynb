{
 "cells": [
  {
   "cell_type": "code",
   "execution_count": 9,
   "metadata": {},
   "outputs": [],
   "source": [
    "import pandas as pd\n",
    "import numpy as np"
   ]
  },
  {
   "cell_type": "code",
   "execution_count": 26,
   "metadata": {},
   "outputs": [],
   "source": [
    "data = pd.read_csv('day2_letters.csv',names=['letters'])"
   ]
  },
  {
   "cell_type": "code",
   "execution_count": 27,
   "metadata": {},
   "outputs": [],
   "source": [
    "ids = data.letters.values"
   ]
  },
  {
   "cell_type": "code",
   "execution_count": 53,
   "metadata": {},
   "outputs": [
    {
     "name": "stdout",
     "output_type": "stream",
     "text": [
      "5727\n"
     ]
    }
   ],
   "source": [
    "twos, threes = ([0 for _ in range(len(ids))] for _ in range(2))\n",
    "for iid,id in enumerate(ids):\n",
    "    uid = set(id)\n",
    "    counts = [1 for _ in range(len(uid))]\n",
    "    ind=-1\n",
    "    for il,l in enumerate(uid):\n",
    "        count = 0\n",
    "        while True:\n",
    "            ind = id.find(l,ind+1)\n",
    "            if ind == -1:\n",
    "                counts[il] = count\n",
    "                break\n",
    "            count+=1\n",
    "    if 2 in counts:\n",
    "        twos[iid] = 1\n",
    "    if 3 in counts:\n",
    "        threes[iid] = 1\n",
    "print(sum(twos)*sum(threes))"
   ]
  },
  {
   "cell_type": "code",
   "execution_count": 55,
   "metadata": {},
   "outputs": [
    {
     "name": "stdout",
     "output_type": "stream",
     "text": [
      "37 92\n"
     ]
    }
   ],
   "source": [
    "for iid1 in range(len(ids)):\n",
    "    for iid2 in range(iid1,len(ids)):\n",
    "        str1 = ids[iid1]\n",
    "        str2 = ids[iid2]\n",
    "        difs = 0\n",
    "        for il,l in enumerate(str1):\n",
    "            if l != str2[il]:\n",
    "                difs+=1\n",
    "            if difs == 2:\n",
    "                break\n",
    "        if difs == 1:\n",
    "            print(iid1,iid2)"
   ]
  },
  {
   "cell_type": "code",
   "execution_count": 58,
   "metadata": {},
   "outputs": [
    {
     "name": "stdout",
     "output_type": "stream",
     "text": [
      "uwkfmdjxyxlbgnrotcfpvswaqh\n",
      "uwzfmdjxyxlbgnrotcfpvswaqh\n"
     ]
    }
   ],
   "source": [
    "print(ids[37]+'\\n'+ids[92])"
   ]
  }
 ],
 "metadata": {
  "kernelspec": {
   "display_name": "Python 3",
   "language": "python",
   "name": "python3"
  },
  "language_info": {
   "codemirror_mode": {
    "name": "ipython",
    "version": 3
   },
   "file_extension": ".py",
   "mimetype": "text/x-python",
   "name": "python",
   "nbconvert_exporter": "python",
   "pygments_lexer": "ipython3",
   "version": "3.6.6"
  }
 },
 "nbformat": 4,
 "nbformat_minor": 2
}

{
 "cells": [
  {
   "cell_type": "code",
   "execution_count": 9,
   "metadata": {},
   "outputs": [],
   "source": [
    "import pandas as pd\n",
    "import numpy as np"
   ]
  },
  {
   "cell_type": "code",
   "execution_count": 26,
   "metadata": {},
   "outputs": [],
   "source": [
    "data = pd.read_csv('day2_letters.csv',names=['letters'])"
   ]
  },
  {
   "cell_type": "code",
   "execution_count": 27,
   "metadata": {},
   "outputs": [],
   "source": [
    "ids = data.letters.values"
   ]
  },
  {
   "cell_type": "code",
   "execution_count": 53,
   "metadata": {},
   "outputs": [
    {
     "name": "stdout",
     "output_type": "stream",
     "text": [
      "5727\n"
     ]
    }
   ],
   "source": [
    "twos, threes = ([0 for _ in range(len(ids))] for _ in range(2))\n",
    "for iid,id in enumerate(ids):\n",
    "    uid = set(id)\n",
    "    counts = [1 for _ in range(len(uid))]\n",
    "    ind=-1\n",
    "    for il,l in enumerate(uid):\n",
    "        count = 0\n",
    "        while True:\n",
    "            ind = id.find(l,ind+1)\n",
    "            if ind == -1:\n",
    "                counts[il] = count\n",
    "                break\n",
    "            count+=1\n",
    "    if 2 in counts:\n",
    "        twos[iid] = 1\n",
    "    if 3 in counts:\n",
    "        threes[iid] = 1\n",
    "print(sum(twos)*sum(threes))"
   ]
  },
  {
   "cell_type": "code",
   "execution_count": null,
   "metadata": {},
   "outputs": [],
   "source": []
  }
 ],
 "metadata": {
  "kernelspec": {
   "display_name": "Python 3",
   "language": "python",
   "name": "python3"
  },
  "language_info": {
   "codemirror_mode": {
    "name": "ipython",
    "version": 3
   },
   "file_extension": ".py",
   "mimetype": "text/x-python",
   "name": "python",
   "nbconvert_exporter": "python",
   "pygments_lexer": "ipython3",
   "version": "3.6.6"
  }
 },
 "nbformat": 4,
 "nbformat_minor": 2
}
